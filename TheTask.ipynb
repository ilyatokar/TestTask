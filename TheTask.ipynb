{
 "cells": [
  {
   "cell_type": "markdown",
   "metadata": {},
   "source": [
    "## Перед запуском нужно сделать ипорт нужных библиотек и переменных"
   ]
  },
  {
   "cell_type": "code",
   "execution_count": null,
   "metadata": {},
   "outputs": [],
   "source": [
    "import pandas as pd\n",
    "import numpy as np\n",
    "import openpyxl as opx\n",
    "\n",
    "file_loc = \"Testovoe_zadanie_pustoe_Аналитик_БД_python.xlsx\""
   ]
  },
  {
   "cell_type": "markdown",
   "metadata": {},
   "source": [
    "# Задания EXCEL"
   ]
  },
  {
   "cell_type": "markdown",
   "metadata": {},
   "source": [
    "## Задание E_1\n",
    "-------------------\n",
    "Предположим, мы хотим объединить содержимое \\\n",
    "ячеек в двух соседних столбцах, как это сделано \\\n",
    "для первой строки, для ВСЕХ остальных строк.\n",
    "\n",
    "При выполнении задания\\\n",
    "Не забудьте про пробел"
   ]
  },
  {
   "cell_type": "code",
   "execution_count": null,
   "metadata": {},
   "outputs": [],
   "source": [
    "file_sheet = \"E_1\"\n",
    "\n",
    "ws = opx.load_workbook(file_loc)\n",
    "\n",
    "data = ws[file_sheet]\n",
    "\n",
    "for i in range(1, data.max_row+1):\n",
    "    if(data['A'+str(i)].value != None):\n",
    "        data['C'+str(i)] = data['A'+str(i)].value +\" \"+ data['B'+str(i)].value\n",
    "ws.save(file_loc)"
   ]
  },
  {
   "cell_type": "markdown",
   "metadata": {},
   "source": [
    "## Задание E_3\n",
    "-------------------\n",
    "Впишите в ячейку C2 данного листа сумму за 20.02.01 по диапазону B2:B52\\\n",
    "в ячейку C3 данного листа количество записей за 20.02.01 по диапазону А2:А52\n",
    "\n"
   ]
  },
  {
   "cell_type": "code",
   "execution_count": null,
   "metadata": {},
   "outputs": [],
   "source": [
    "file_sheet = \"E_3\"\n",
    "\n",
    "ws = opx.load_workbook(file_loc)\n",
    "\n",
    "data = ws[file_sheet]\n",
    "\n",
    "sum = 0\n",
    "count = 0\n",
    "\n",
    "for i in range(1, 52):\n",
    "    if(data['A'+str(i)].value == '20.02.01'):\n",
    "        sum = sum + data['B'+str(i)].value\n",
    "        count += 1\n",
    "data['C2']=sum\n",
    "data['C3']=count\n",
    "ws.save(file_loc)"
   ]
  },
  {
   "cell_type": "markdown",
   "metadata": {},
   "source": [
    "## Задание E_4\n",
    "-------------------\n",
    "Построить график для анализа продаж по месяцам в соответствии с предложенной таблицей\\\n"
   ]
  },
  {
   "cell_type": "code",
   "execution_count": null,
   "metadata": {},
   "outputs": [],
   "source": [
    "import matplotlib.pyplot as plt\n",
    "import matplotlib\n",
    "matplotlib.style.use('ggplot')\n",
    "\n",
    "file_sheet = \"E_4\"\n",
    "\n",
    "df = 0\n",
    "df = pd.read_excel(file_loc, sheet_name=file_sheet,index_col=0, usecols='A:G')\n",
    "\n",
    "df.plot()\n",
    "plt.savefig('img.png')\n",
    "\n",
    "wb = opx.load_workbook(file_loc)\n",
    "ws = wb[file_sheet]\n",
    "img = opx.drawing.image.Image('img.png')\n",
    "img.anchor = 'J6' # Or whatever cell location you want to use.\n",
    "ws.add_image(img)\n",
    "\n",
    "wb.save(file_loc) "
   ]
  },
  {
   "cell_type": "markdown",
   "metadata": {},
   "source": [
    "## Задание E_5\n",
    "-------------------\n",
    "Добавить к таблице 1 плановые показатели продаж из таблицы 2\n",
    "\n"
   ]
  },
  {
   "cell_type": "code",
   "execution_count": null,
   "metadata": {},
   "outputs": [],
   "source": [
    "file_sheet = \"E_5\"\n",
    "\n",
    "ws = opx.load_workbook(file_loc)\n",
    "\n",
    "data = ws[file_sheet]\n",
    "\n",
    "for i in range(3, 6):\n",
    "    client = data['A'+str(i)].value\n",
    "    for j in range (10, 12):\n",
    "        if(data['A'+str(j)].value == client):\n",
    "            data['C'+str(i)].value = data['B'+str(j)].value\n",
    "\n",
    "for i in range(3, 6):\n",
    "    if(not(data['C'+str(i)].value)):\n",
    "        data['C'+str(i)].value = 0\n",
    "\n",
    "\n",
    "ws.save(file_loc)"
   ]
  },
  {
   "cell_type": "markdown",
   "metadata": {},
   "source": [
    "# Задания SQL"
   ]
  },
  {
   "cell_type": "markdown",
   "metadata": {},
   "source": [
    "## Задание S_1\n",
    "---------------------\n",
    "Вывести уникальные ID клиентов, имеющих действующий продукт \"Услуга_1\""
   ]
  },
  {
   "cell_type": "code",
   "execution_count": null,
   "metadata": {},
   "outputs": [],
   "source": [
    "SELECT DISTINCT ClientID FROM Products WHERE ProductType=’\"Услуга_1\";"
   ]
  },
  {
   "cell_type": "markdown",
   "metadata": {},
   "source": [
    "## Задание S_2\n",
    "---------------------\n",
    "2. Вывести наименование и количество действующих продуктов"
   ]
  },
  {
   "cell_type": "code",
   "execution_count": null,
   "metadata": {},
   "outputs": [],
   "source": [
    "SELECT ProductType COUNT(DISTINCT ProductType) FROM  Products WHERE DateClose BETWEEN  GETDATE() AND 01/01/4444;"
   ]
  },
  {
   "cell_type": "markdown",
   "metadata": {},
   "source": [
    "## Задание S_3\n",
    "---------------------\n",
    "3. Вывести уникальные ID действующих клиентов, имеющих действующий продукт \"Услуга_2\""
   ]
  },
  {
   "cell_type": "code",
   "execution_count": null,
   "metadata": {},
   "outputs": [],
   "source": [
    "SELECT DISTINCT ClientID FROM Client as table_client WHERE EXISTS (SELECT ProductType FROM Products WHERE Client_id=table_client.id and ProductType=\"Услуга_2\") and DateTo BETWEEN  GETDATE() AND 12/31/9999;"
   ]
  },
  {
   "cell_type": "markdown",
   "metadata": {},
   "source": [
    "## Задание S_4\n",
    "---------------------\n",
    "4. Вывести уникальные ID действующих клиентов, у которых отсутствует услуга \"Услуга_3\""
   ]
  },
  {
   "cell_type": "code",
   "execution_count": null,
   "metadata": {},
   "outputs": [],
   "source": [
    "SELECT DISTINCT ClientID FROM Client as table_client WHERE NOT EXISTS (SELECT ProductType FROM Products WHERE Client_id=table_client.id and ProductType=\"Услуга_3\") and DateTo BETWEEN  GETDATE() AND 12/31/9999;"
   ]
  },
  {
   "cell_type": "markdown",
   "metadata": {},
   "source": [
    "## Задание S_5\n",
    "---------------------\n",
    "5. Для таблицы Products добавить флаг активности продукта (1 - активен, 0 - закрыт)"
   ]
  },
  {
   "cell_type": "code",
   "execution_count": null,
   "metadata": {},
   "outputs": [],
   "source": [
    "ALERT TABLE Products ADD Flag INT(2) DEFAULT 0;\n",
    "UPDATE Products SET Flag=1 WHERE DateTo BETWEEN GETDATE() AND 12/31/9999;"
   ]
  }
 ],
 "metadata": {
  "kernelspec": {
   "display_name": "Python 3",
   "language": "python",
   "name": "python3"
  },
  "language_info": {
   "codemirror_mode": {
    "name": "ipython",
    "version": 3
   },
   "file_extension": ".py",
   "mimetype": "text/x-python",
   "name": "python",
   "nbconvert_exporter": "python",
   "pygments_lexer": "ipython3",
   "version": "3.8.3"
  }
 },
 "nbformat": 4,
 "nbformat_minor": 4
}
